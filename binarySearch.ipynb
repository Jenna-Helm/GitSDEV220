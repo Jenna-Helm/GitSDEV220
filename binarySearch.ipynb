{
 "cells": [
  {
   "cell_type": "code",
   "execution_count": null,
   "id": "a2423219-120c-424f-a8e0-eacacaafe521",
   "metadata": {},
   "outputs": [],
   "source": [
    "#User function template for Python\n",
    "\n",
    "class Solution:\n",
    "    def binarysearch(self, arr, k):\n",
    "        arr.sort()\n",
    "        left=0\n",
    "        right=len(arr)-1\n",
    "        while left<=right:\n",
    "            mid=(left+right)//2\n",
    "            if arr[mid]==k:\n",
    "                return mid\n",
    "            elif arr[mid]<k:\n",
    "                left=mid+1\n",
    "            else:\n",
    "                right=mid-1\n",
    "        return -1"
   ]
  }
 ],
 "metadata": {
  "kernelspec": {
   "display_name": "Python 3 (ipykernel)",
   "language": "python",
   "name": "python3"
  },
  "language_info": {
   "codemirror_mode": {
    "name": "ipython",
    "version": 3
   },
   "file_extension": ".py",
   "mimetype": "text/x-python",
   "name": "python",
   "nbconvert_exporter": "python",
   "pygments_lexer": "ipython3",
   "version": "3.12.4"
  }
 },
 "nbformat": 4,
 "nbformat_minor": 5
}
